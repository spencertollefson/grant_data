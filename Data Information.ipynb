{
 "cells": [
  {
   "cell_type": "markdown",
   "metadata": {
    "toc-hr-collapsed": false
   },
   "source": [
    "# Data Issues\n",
    "- **GranteeLocation**\n",
    "    - Created new column called \"GranteeCity\" where in I removed all information after the first \"comma\" in GranteeLocation, as it appears all or nearly all entries have the City first, but then it's wildly inconsistent with a state/province, sometimes country, later\n",
    "- **Country and Continent**\n",
    "    - Only a small subset of this data has this information included\n",
    "- **Purpose**\n",
    "    - Since about 13% of entries had as their purpose \"general operating support\", I made a column to indicate yes/no for this feature.\n",
    "  \n",
    "# Data Manipulation\n",
    "- **Program**\n",
    "    - Since some Grants have multiple programs, I created dummy variable columns for these 5 Programs and marked them with a 1 if the Grant is for that particular Program\n",
    "- **Amount per Term Ratio**\n",
    "    - Created an Amount/Term ratio using Tableau to find the simple ratio of how much each Grant doles out at a monthly rate\n",
    "- **Country**\n",
    "    - Imputed Country based on city using a Python library \"geocoder\" that calls a lookup to Google Maps API. Then used that feature in Tableau to determine if Grantee's were based in the United States or International\n",
    "- **General Operating Cost**\n",
    "    - Discovered during EDA that about 13% of \"Purpose\" descriptions were for general operating cost. So I pulled that out as a feature.\n",
    "  \n",
    "# Assumptions\n",
    "\n",
    "- Term is measured in months\n",
    "- Amount is measured in dollars\n",
    "- GrantDate indicates when the grant distributions begin OR when the decision was made (and distributions begin shortly afterward)\n",
    "- Assuming money outlays are distributed in a unified manner over the Term of a program. It likely isn't this way, but it's a fair rough assumption"
   ]
  }
 ],
 "metadata": {
  "kernelspec": {
   "display_name": "Python 3",
   "language": "python",
   "name": "python3"
  },
  "language_info": {
   "codemirror_mode": {
    "name": "ipython",
    "version": 3
   },
   "file_extension": ".py",
   "mimetype": "text/x-python",
   "name": "python",
   "nbconvert_exporter": "python",
   "pygments_lexer": "ipython3",
   "version": "3.7.1"
  }
 },
 "nbformat": 4,
 "nbformat_minor": 2
}
